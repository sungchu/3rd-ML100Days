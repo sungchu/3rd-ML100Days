{
 "cells": [
  {
   "cell_type": "markdown",
   "metadata": {},
   "source": [
    "## Work\n",
    "1. 請比較使用不同層數以及不同 Dropout rate 對訓練的效果\n",
    "2. 將 optimizer 改成使用 Adam 並加上適當的 dropout rate 檢視結果"
   ]
  },
  {
   "cell_type": "code",
   "execution_count": 1,
   "metadata": {},
   "outputs": [
    {
     "name": "stderr",
     "output_type": "stream",
     "text": [
      "Using TensorFlow backend.\n"
     ]
    }
   ],
   "source": [
    "import os\n",
    "import keras\n",
    "import itertools\n",
    "# Disable GPU\n",
    "os.environ[\"CUDA_VISIBLE_DEVICES\"] = \"\""
   ]
  },
  {
   "cell_type": "code",
   "execution_count": 2,
   "metadata": {},
   "outputs": [],
   "source": [
    "train, test = keras.datasets.cifar10.load_data()"
   ]
  },
  {
   "cell_type": "code",
   "execution_count": 3,
   "metadata": {},
   "outputs": [],
   "source": [
    "## 資料前處理\n",
    "def preproc_x(x, flatten=True):\n",
    "    x = x / 255.\n",
    "    if flatten:\n",
    "        x = x.reshape((len(x), -1))\n",
    "    return x\n",
    "\n",
    "def preproc_y(y, num_classes=10):\n",
    "    if y.shape[-1] == 1:\n",
    "        y = keras.utils.to_categorical(y, num_classes)\n",
    "    return y    "
   ]
  },
  {
   "cell_type": "code",
   "execution_count": 4,
   "metadata": {},
   "outputs": [],
   "source": [
    "x_train, y_train = train\n",
    "x_test, y_test = test\n",
    "\n",
    "# Preproc the inputs\n",
    "x_train = preproc_x(x_train)\n",
    "x_test = preproc_x(x_test)\n",
    "\n",
    "# Preprc the outputs\n",
    "y_train = preproc_y(y_train)\n",
    "y_test = preproc_y(y_test)"
   ]
  },
  {
   "cell_type": "code",
   "execution_count": 5,
   "metadata": {},
   "outputs": [],
   "source": [
    "from keras.layers import Dropout\n",
    "def build_mlp(input_shape, output_units=10, num_neurons=[512, 256, 128], drp_ratio=0.2):\n",
    "    \"\"\"Code Here\n",
    "    建立你的神經網路\n",
    "    \"\"\"\n",
    "    input_layer = keras.layers.Input(input_shape)\n",
    "    \n",
    "    for i, n_units in enumerate(num_neurons):\n",
    "        if i == 0:\n",
    "            x = keras.layers.Dense(units=n_units, \n",
    "                                   activation=\"relu\", \n",
    "                                   name=\"hidden_layer\"+str(i+1))(input_layer)\n",
    "            x = Dropout(drp_ratio)(x)\n",
    "        else:\n",
    "            x = keras.layers.Dense(units=n_units, \n",
    "                                   activation=\"relu\", \n",
    "                                   name=\"hidden_layer\"+str(i+1))(x)\n",
    "            x = Dropout(drp_ratio)(x)\n",
    "    \n",
    "    out = keras.layers.Dense(units=output_units, activation=\"softmax\", name=\"output\")(x)\n",
    "    \n",
    "    model = keras.models.Model(inputs=[input_layer], outputs=[out])\n",
    "    return model"
   ]
  },
  {
   "cell_type": "code",
   "execution_count": 6,
   "metadata": {},
   "outputs": [],
   "source": [
    "\"\"\"Code Here\n",
    "設定超參數\n",
    "\"\"\"\n",
    "LEARNING_RATE = 1e-3\n",
    "EPOCHS = 50\n",
    "BATCH_SIZE = 256\n",
    "MOMENTUM = 0.95\n",
    "Dropout_EXP = 0.25"
   ]
  },
  {
   "cell_type": "code",
   "execution_count": 7,
   "metadata": {
    "scrolled": true
   },
   "outputs": [
    {
     "name": "stdout",
     "output_type": "stream",
     "text": [
      "Model: \"model_1\"\n",
      "_________________________________________________________________\n",
      "Layer (type)                 Output Shape              Param #   \n",
      "=================================================================\n",
      "input_1 (InputLayer)         (None, 3072)              0         \n",
      "_________________________________________________________________\n",
      "hidden_layer1 (Dense)        (None, 512)               1573376   \n",
      "_________________________________________________________________\n",
      "dropout_1 (Dropout)          (None, 512)               0         \n",
      "_________________________________________________________________\n",
      "hidden_layer2 (Dense)        (None, 256)               131328    \n",
      "_________________________________________________________________\n",
      "dropout_2 (Dropout)          (None, 256)               0         \n",
      "_________________________________________________________________\n",
      "hidden_layer3 (Dense)        (None, 128)               32896     \n",
      "_________________________________________________________________\n",
      "dropout_3 (Dropout)          (None, 128)               0         \n",
      "_________________________________________________________________\n",
      "output (Dense)               (None, 10)                1290      \n",
      "=================================================================\n",
      "Total params: 1,738,890\n",
      "Trainable params: 1,738,890\n",
      "Non-trainable params: 0\n",
      "_________________________________________________________________\n",
      "Train on 50000 samples, validate on 10000 samples\n",
      "Epoch 1/50\n",
      "50000/50000 [==============================] - 13s 263us/step - loss: 2.1988 - accuracy: 0.1832 - val_loss: 1.9931 - val_accuracy: 0.3015ss: 2.2851 - accura - - E\n",
      "Epoch 2/50\n",
      "50000/50000 [==============================] - 12s 231us/step - loss: 2.0023 - accuracy: 0.2661 - val_loss: 1.8760 - val_accuracy: 0.3391\n",
      "Epoch 3/50\n",
      "50000/50000 [==============================] - 12s 232us/step - loss: 1.9174 - accuracy: 0.3071 - val_loss: 1.8129 - val_accuracy: 0.3661\n",
      "Epoch 4/50\n",
      "50000/50000 [==============================] - 12s 237us/step - loss: 1.8670 - accuracy: 0.3280 - val_loss: 1.7609 - val_accuracy: 0.3842\n",
      "Epoch 5/50\n",
      "50000/50000 [==============================] - 12s 231us/step - loss: 1.8208 - accuracy: 0.3481 - val_loss: 1.7229 - val_accuracy: 0.3929 - accu\n",
      "Epoch 6/50\n",
      "50000/50000 [==============================] - 12s 237us/step - loss: 1.7852 - accuracy: 0.3623 - val_loss: 1.6901 - val_accuracy: 0.4031\n",
      "Epoch 7/50\n",
      "50000/50000 [==============================] - 12s 232us/step - loss: 1.7585 - accuracy: 0.3710 - val_loss: 1.6600 - val_accuracy: 0.4102\n",
      "Epoch 8/50\n",
      "50000/50000 [==============================] - 12s 233us/step - loss: 1.7297 - accuracy: 0.3816 - val_loss: 1.6317 - val_accuracy: 0.4276\n",
      "Epoch 9/50\n",
      "50000/50000 [==============================] - 12s 244us/step - loss: 1.7059 - accuracy: 0.3906 - val_loss: 1.6114 - val_accuracy: 0.4287\n",
      "Epoch 10/50\n",
      "50000/50000 [==============================] - 11s 230us/step - loss: 1.6885 - accuracy: 0.3970 - val_loss: 1.5891 - val_accuracy: 0.4387\n",
      "Epoch 11/50\n",
      "50000/50000 [==============================] - 12s 236us/step - loss: 1.6636 - accuracy: 0.4069 - val_loss: 1.5756 - val_accuracy: 0.4409s - loss: 1\n",
      "Epoch 12/50\n",
      "50000/50000 [==============================] - 12s 230us/step - loss: 1.6483 - accuracy: 0.4131 - val_loss: 1.5600 - val_accuracy: 0.4416\n",
      "Epoch 13/50\n",
      "50000/50000 [==============================] - 11s 229us/step - loss: 1.6299 - accuracy: 0.4217 - val_loss: 1.5373 - val_accuracy: 0.4541\n",
      "Epoch 14/50\n",
      "50000/50000 [==============================] - 12s 232us/step - loss: 1.6121 - accuracy: 0.4282 - val_loss: 1.5271 - val_accuracy: 0.4624\n",
      "Epoch 15/50\n",
      "50000/50000 [==============================] - 10s 195us/step - loss: 1.6009 - accuracy: 0.4307 - val_loss: 1.5099 - val_accuracy: 0.4648\n",
      "Epoch 16/50\n",
      "50000/50000 [==============================] - 12s 230us/step - loss: 1.5876 - accuracy: 0.4359 - val_loss: 1.4973 - val_accuracy: 0.4703\n",
      "Epoch 17/50\n",
      "50000/50000 [==============================] - 12s 233us/step - loss: 1.5718 - accuracy: 0.4374 - val_loss: 1.4798 - val_accuracy: 0.4775\n",
      "Epoch 18/50\n",
      "50000/50000 [==============================] - 12s 234us/step - loss: 1.5583 - accuracy: 0.4459 - val_loss: 1.4702 - val_accuracy: 0.4739\n",
      "Epoch 19/50\n",
      "50000/50000 [==============================] - 12s 241us/step - loss: 1.5440 - accuracy: 0.4491 - val_loss: 1.4675 - val_accuracy: 0.4773\n",
      "Epoch 20/50\n",
      "50000/50000 [==============================] - 11s 228us/step - loss: 1.5356 - accuracy: 0.4528 - val_loss: 1.4510 - val_accuracy: 0.4802\n",
      "Epoch 21/50\n",
      "50000/50000 [==============================] - 11s 230us/step - loss: 1.5236 - accuracy: 0.4595 - val_loss: 1.4461 - val_accuracy: 0.4838\n",
      "Epoch 22/50\n",
      "50000/50000 [==============================] - 12s 240us/step - loss: 1.5137 - accuracy: 0.4638 - val_loss: 1.4388 - val_accuracy: 0.4897\n",
      "Epoch 23/50\n",
      "50000/50000 [==============================] - 12s 233us/step - loss: 1.4956 - accuracy: 0.4681 - val_loss: 1.4336 - val_accuracy: 0.4841\n",
      "Epoch 24/50\n",
      "50000/50000 [==============================] - 14s 277us/step - loss: 1.4899 - accuracy: 0.4688 - val_loss: 1.4163 - val_accuracy: 0.4937\n",
      "Epoch 25/50\n",
      "50000/50000 [==============================] - 13s 268us/step - loss: 1.4798 - accuracy: 0.4736 - val_loss: 1.4137 - val_accuracy: 0.4983\n",
      "Epoch 26/50\n",
      "50000/50000 [==============================] - 12s 243us/step - loss: 1.4673 - accuracy: 0.4760 - val_loss: 1.4050 - val_accuracy: 0.5027\n",
      "Epoch 27/50\n",
      "50000/50000 [==============================] - 12s 249us/step - loss: 1.4584 - accuracy: 0.4806 - val_loss: 1.4044 - val_accuracy: 0.4996\n",
      "Epoch 28/50\n",
      "50000/50000 [==============================] - 12s 248us/step - loss: 1.4546 - accuracy: 0.4816 - val_loss: 1.3969 - val_accuracy: 0.5000\n",
      "Epoch 29/50\n",
      "50000/50000 [==============================] - 12s 239us/step - loss: 1.4434 - accuracy: 0.4841 - val_loss: 1.3950 - val_accuracy: 0.5028\n",
      "Epoch 30/50\n",
      "50000/50000 [==============================] - 11s 219us/step - loss: 1.4328 - accuracy: 0.4900 - val_loss: 1.3771 - val_accuracy: 0.5113\n",
      "Epoch 31/50\n",
      "50000/50000 [==============================] - 11s 228us/step - loss: 1.4237 - accuracy: 0.4915 - val_loss: 1.3803 - val_accuracy: 0.5067\n",
      "Epoch 32/50\n",
      "50000/50000 [==============================] - 11s 225us/step - loss: 1.4145 - accuracy: 0.4958 - val_loss: 1.3685 - val_accuracy: 0.5155\n",
      "Epoch 33/50\n",
      "50000/50000 [==============================] - 11s 217us/step - loss: 1.4091 - accuracy: 0.4976 - val_loss: 1.3657 - val_accuracy: 0.5110\n",
      "Epoch 34/50\n",
      "50000/50000 [==============================] - 11s 229us/step - loss: 1.3986 - accuracy: 0.4994 - val_loss: 1.3605 - val_accuracy: 0.5097\n",
      "Epoch 35/50\n",
      "50000/50000 [==============================] - 11s 222us/step - loss: 1.3921 - accuracy: 0.5019 - val_loss: 1.3528 - val_accuracy: 0.5164\n",
      "Epoch 36/50\n",
      "50000/50000 [==============================] - 11s 220us/step - loss: 1.3824 - accuracy: 0.5060 - val_loss: 1.3618 - val_accuracy: 0.5088\n",
      "Epoch 37/50\n",
      "50000/50000 [==============================] - 12s 232us/step - loss: 1.3764 - accuracy: 0.5084 - val_loss: 1.3435 - val_accuracy: 0.5186\n",
      "Epoch 38/50\n",
      "50000/50000 [==============================] - 11s 221us/step - loss: 1.3696 - accuracy: 0.5126 - val_loss: 1.3443 - val_accuracy: 0.5199\n",
      "Epoch 39/50\n",
      "50000/50000 [==============================] - 11s 229us/step - loss: 1.3623 - accuracy: 0.5148 - val_loss: 1.3390 - val_accuracy: 0.5159\n",
      "Epoch 40/50\n",
      "50000/50000 [==============================] - 11s 223us/step - loss: 1.3601 - accuracy: 0.5170 - val_loss: 1.3459 - val_accuracy: 0.5136\n",
      "Epoch 41/50\n",
      "50000/50000 [==============================] - 11s 220us/step - loss: 1.3487 - accuracy: 0.5152 - val_loss: 1.3266 - val_accuracy: 0.5230\n",
      "Epoch 42/50\n",
      "50000/50000 [==============================] - 11s 226us/step - loss: 1.3413 - accuracy: 0.5198 - val_loss: 1.3383 - val_accuracy: 0.5215\n",
      "Epoch 43/50\n",
      "50000/50000 [==============================] - 12s 242us/step - loss: 1.3354 - accuracy: 0.5239 - val_loss: 1.3230 - val_accuracy: 0.5246\n",
      "Epoch 44/50\n",
      "50000/50000 [==============================] - 11s 229us/step - loss: 1.3320 - accuracy: 0.5265 - val_loss: 1.3222 - val_accuracy: 0.5292\n",
      "Epoch 45/50\n"
     ]
    },
    {
     "name": "stdout",
     "output_type": "stream",
     "text": [
      "50000/50000 [==============================] - 12s 234us/step - loss: 1.3195 - accuracy: 0.5298 - val_loss: 1.3214 - val_accuracy: 0.5286\n",
      "Epoch 46/50\n",
      "50000/50000 [==============================] - 11s 225us/step - loss: 1.3152 - accuracy: 0.5311 - val_loss: 1.3127 - val_accuracy: 0.5291\n",
      "Epoch 47/50\n",
      "50000/50000 [==============================] - 11s 226us/step - loss: 1.3043 - accuracy: 0.5343 - val_loss: 1.3154 - val_accuracy: 0.5202\n",
      "Epoch 48/50\n",
      "50000/50000 [==============================] - 11s 226us/step - loss: 1.3020 - accuracy: 0.5351 - val_loss: 1.3123 - val_accuracy: 0.5326\n",
      "Epoch 49/50\n",
      "50000/50000 [==============================] - 11s 223us/step - loss: 1.2997 - accuracy: 0.5366 - val_loss: 1.3092 - val_accuracy: 0.5336\n",
      "Epoch 50/50\n",
      "50000/50000 [==============================] - 12s 241us/step - loss: 1.2908 - accuracy: 0.5347 - val_loss: 1.3033 - val_accuracy: 0.5367\n"
     ]
    }
   ],
   "source": [
    "results = {}\n",
    "\"\"\"Code Here\n",
    "撰寫你的訓練流程並將結果用 dictionary 紀錄\n",
    "\"\"\"\n",
    "model = build_mlp(input_shape=x_train.shape[1:], drp_ratio=Dropout_EXP)\n",
    "model.summary()\n",
    "optimizer = keras.optimizers.SGD(lr=LEARNING_RATE, nesterov=True, momentum=MOMENTUM)\n",
    "model.compile(loss=\"categorical_crossentropy\", metrics=[\"accuracy\"], optimizer=optimizer)\n",
    "\n",
    "model.fit(x_train, y_train, \n",
    "          epochs=EPOCHS, \n",
    "          batch_size=BATCH_SIZE, \n",
    "          validation_data=(x_test, y_test), \n",
    "          shuffle=True)\n",
    "\n",
    "# Collect results\n",
    "train_loss = model.history.history[\"loss\"]\n",
    "valid_loss = model.history.history[\"val_loss\"]\n",
    "train_acc = model.history.history[\"accuracy\"]\n",
    "valid_acc = model.history.history[\"val_accuracy\"]"
   ]
  },
  {
   "cell_type": "code",
   "execution_count": 8,
   "metadata": {},
   "outputs": [
    {
     "data": {
      "image/png": "[encoded data removed]",
      "text/plain": [
       "<Figure size 432x288 with 1 Axes>"
      ]
     },
     "metadata": {
      "needs_background": "light"
     },
     "output_type": "display_data"
    },
    {
     "data": {
      "image/png": "[encoded data removed]",
      "text/plain": [
       "<Figure size 432x288 with 1 Axes>"
      ]
     },
     "metadata": {
      "needs_background": "light"
     },
     "output_type": "display_data"
    }
   ],
   "source": [
    "import matplotlib.pyplot as plt\n",
    "%matplotlib inline\n",
    "\"\"\"Code Here\n",
    "將結果繪出\n",
    "\"\"\"\n",
    "plt.plot(range(len(train_loss)), train_loss, label=\"train loss\")\n",
    "plt.plot(range(len(valid_loss)), valid_loss, label=\"valid loss\")\n",
    "plt.legend()\n",
    "plt.title(\"Loss\")\n",
    "plt.show()\n",
    "\n",
    "plt.plot(range(len(train_acc)), train_acc, label=\"train accuracy\")\n",
    "plt.plot(range(len(valid_acc)), valid_acc, label=\"valid accuracy\")\n",
    "plt.legend()\n",
    "plt.title(\"Accuracy\")\n",
    "plt.show()"
   ]
  }
 ],
 "metadata": {
  "kernelspec": {
   "display_name": "Python 3",
   "language": "python",
   "name": "python3"
  },
  "language_info": {
   "codemirror_mode": {
    "name": "ipython",
    "version": 3
   },
   "file_extension": ".py",
   "mimetype": "text/x-python",
   "name": "python",
   "nbconvert_exporter": "python",
   "pygments_lexer": "ipython3",
   "version": "3.6.9"
  },
  "toc": {
   "base_numbering": 1,
   "nav_menu": {},
   "number_sections": true,
   "sideBar": true,
   "skip_h1_title": false,
   "title_cell": "Table of Contents",
   "title_sidebar": "Contents",
   "toc_cell": false,
   "toc_position": {},
   "toc_section_display": true,
   "toc_window_display": false
  }
 },
 "nbformat": 4,
 "nbformat_minor": 2
}
