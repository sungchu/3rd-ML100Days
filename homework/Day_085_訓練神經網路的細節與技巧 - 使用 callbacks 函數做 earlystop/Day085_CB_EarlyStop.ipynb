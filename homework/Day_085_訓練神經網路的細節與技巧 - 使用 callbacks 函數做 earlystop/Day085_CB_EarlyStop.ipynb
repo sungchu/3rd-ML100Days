{
 "cells": [
  {
   "cell_type": "markdown",
   "metadata": {},
   "source": [
    "## 範例重點\n",
    "* 學習如何在 keras 中加入 EarlyStop\n",
    "* 知道如何設定監控目標\n",
    "* 比較有無 earlystopping 對 validation 的影響"
   ]
  },
  {
   "cell_type": "code",
   "execution_count": 1,
   "metadata": {},
   "outputs": [
    {
     "name": "stderr",
     "output_type": "stream",
     "text": [
      "Using TensorFlow backend.\n"
     ]
    }
   ],
   "source": [
    "import os\n",
    "import keras\n",
    "\n",
    "# 本範例不需使用 GPU, 將 GPU 設定為 \"無\"\n",
    "os.environ[\"CUDA_VISIBLE_DEVICES\"] = \"\""
   ]
  },
  {
   "cell_type": "code",
   "execution_count": 2,
   "metadata": {},
   "outputs": [],
   "source": [
    "train, test = keras.datasets.cifar10.load_data()"
   ]
  },
  {
   "cell_type": "code",
   "execution_count": 3,
   "metadata": {},
   "outputs": [],
   "source": [
    "## 資料前處理\n",
    "def preproc_x(x, flatten=True):\n",
    "    x = x / 255.\n",
    "    if flatten:\n",
    "        x = x.reshape((len(x), -1))\n",
    "    return x\n",
    "\n",
    "def preproc_y(y, num_classes=10):\n",
    "    if y.shape[-1] == 1:\n",
    "        y = keras.utils.to_categorical(y, num_classes)\n",
    "    return y    "
   ]
  },
  {
   "cell_type": "code",
   "execution_count": 4,
   "metadata": {},
   "outputs": [],
   "source": [
    "x_train, y_train = train\n",
    "x_test, y_test = test\n",
    "\n",
    "# 資料前處理 - X 標準化\n",
    "x_train = preproc_x(x_train)\n",
    "x_test = preproc_x(x_test)\n",
    "\n",
    "# 資料前處理 -Y 轉成 onehot\n",
    "y_train = preproc_y(y_train)\n",
    "y_test = preproc_y(y_test)"
   ]
  },
  {
   "cell_type": "code",
   "execution_count": 5,
   "metadata": {},
   "outputs": [],
   "source": [
    "\"\"\"\n",
    "建立神經網路，並加入 BN layer\n",
    "\"\"\"\n",
    "def build_mlp(input_shape, output_units=10, num_neurons=[512, 256, 128]):\n",
    "    input_layer = keras.layers.Input(input_shape)\n",
    "    \n",
    "    for i, n_units in enumerate(num_neurons):\n",
    "        if i == 0:\n",
    "            x = keras.layers.Dense(units=n_units, \n",
    "                                   activation=\"relu\", \n",
    "                                   name=\"hidden_layer\"+str(i+1))(input_layer)\n",
    "            x = BatchNormalization()(x)\n",
    "        else:\n",
    "            x = keras.layers.Dense(units=n_units, \n",
    "                                   activation=\"relu\", \n",
    "                                   name=\"hidden_layer\"+str(i+1))(x)\n",
    "            x = BatchNormalization()(x)\n",
    "    \n",
    "    out = keras.layers.Dense(units=output_units, activation=\"softmax\", name=\"output\")(x)\n",
    "    \n",
    "    model = keras.models.Model(inputs=[input_layer], outputs=[out])\n",
    "    return model"
   ]
  },
  {
   "cell_type": "code",
   "execution_count": 6,
   "metadata": {},
   "outputs": [],
   "source": [
    "## 超參數設定\n",
    "LEARNING_RATE = 1e-3\n",
    "EPOCHS = 50\n",
    "BATCH_SIZE = 1024\n",
    "MOMENTUM = 0.95"
   ]
  },
  {
   "cell_type": "code",
   "execution_count": 7,
   "metadata": {},
   "outputs": [],
   "source": [
    "\"\"\"\n",
    "# 載入 Callbacks, 並將 monitor 設定為監控 validation loss\n",
    "\"\"\"\n",
    "from keras.callbacks import EarlyStopping\n",
    "\n",
    "earlystop = EarlyStopping(monitor=\"val_loss\", \n",
    "                          patience=5, \n",
    "                          verbose=1\n",
    "                          )"
   ]
  },
  {
   "cell_type": "code",
   "execution_count": 9,
   "metadata": {
    "scrolled": true
   },
   "outputs": [
    {
     "name": "stdout",
     "output_type": "stream",
     "text": [
      "Model: \"model_2\"\n",
      "_________________________________________________________________\n",
      "Layer (type)                 Output Shape              Param #   \n",
      "=================================================================\n",
      "input_2 (InputLayer)         (None, 3072)              0         \n",
      "_________________________________________________________________\n",
      "hidden_layer1 (Dense)        (None, 512)               1573376   \n",
      "_________________________________________________________________\n",
      "batch_normalization_4 (Batch (None, 512)               2048      \n",
      "_________________________________________________________________\n",
      "hidden_layer2 (Dense)        (None, 256)               131328    \n",
      "_________________________________________________________________\n",
      "batch_normalization_5 (Batch (None, 256)               1024      \n",
      "_________________________________________________________________\n",
      "hidden_layer3 (Dense)        (None, 128)               32896     \n",
      "_________________________________________________________________\n",
      "batch_normalization_6 (Batch (None, 128)               512       \n",
      "_________________________________________________________________\n",
      "output (Dense)               (None, 10)                1290      \n",
      "=================================================================\n",
      "Total params: 1,742,474\n",
      "Trainable params: 1,740,682\n",
      "Non-trainable params: 1,792\n",
      "_________________________________________________________________\n",
      "Train on 50000 samples, validate on 10000 samples\n",
      "Epoch 1/50\n",
      "50000/50000 [==============================] - 20s 405us/step - loss: 2.2644 - accuracy: 0.2597 - val_loss: 2.1435 - val_accuracy: 0.1856\n",
      "Epoch 2/50\n",
      "50000/50000 [==============================] - 13s 267us/step - loss: 1.7564 - accuracy: 0.3924 - val_loss: 1.9902 - val_accuracy: 0.2771\n",
      "Epoch 3/50\n",
      "50000/50000 [==============================] - 13s 267us/step - loss: 1.6299 - accuracy: 0.4330 - val_loss: 1.8597 - val_accuracy: 0.3449\n",
      "Epoch 4/50\n",
      "50000/50000 [==============================] - 13s 266us/step - loss: 1.5567 - accuracy: 0.4582 - val_loss: 1.7503 - val_accuracy: 0.3891\n",
      "Epoch 5/50\n",
      "50000/50000 [==============================] - 14s 283us/step - loss: 1.5048 - accuracy: 0.4762 - val_loss: 1.6698 - val_accuracy: 0.4190\n",
      "Epoch 6/50\n",
      "50000/50000 [==============================] - 14s 271us/step - loss: 1.4577 - accuracy: 0.4915 - val_loss: 1.6179 - val_accuracy: 0.4367\n",
      "Epoch 7/50\n",
      "50000/50000 [==============================] - 14s 285us/step - loss: 1.4184 - accuracy: 0.5065 - val_loss: 1.5683 - val_accuracy: 0.4501\n",
      "Epoch 8/50\n",
      "50000/50000 [==============================] - 14s 270us/step - loss: 1.3833 - accuracy: 0.5185 - val_loss: 1.5406 - val_accuracy: 0.4585\n",
      "Epoch 9/50\n",
      "50000/50000 [==============================] - 15s 298us/step - loss: 1.3523 - accuracy: 0.5299 - val_loss: 1.5404 - val_accuracy: 0.4604\n",
      "Epoch 10/50\n",
      "50000/50000 [==============================] - 14s 275us/step - loss: 1.3229 - accuracy: 0.5398 - val_loss: 1.5132 - val_accuracy: 0.4681\n",
      "Epoch 11/50\n",
      "50000/50000 [==============================] - 14s 278us/step - loss: 1.2938 - accuracy: 0.5524 - val_loss: 1.5095 - val_accuracy: 0.4725\n",
      "Epoch 12/50\n",
      "50000/50000 [==============================] - 15s 299us/step - loss: 1.2662 - accuracy: 0.5629 - val_loss: 1.4922 - val_accuracy: 0.4748\n",
      "Epoch 13/50\n",
      "50000/50000 [==============================] - 14s 290us/step - loss: 1.2403 - accuracy: 0.5720 - val_loss: 1.4841 - val_accuracy: 0.4793\n",
      "Epoch 14/50\n",
      "50000/50000 [==============================] - 13s 260us/step - loss: 1.2158 - accuracy: 0.5796 - val_loss: 1.4844 - val_accuracy: 0.4823\n",
      "Epoch 15/50\n",
      "50000/50000 [==============================] - 13s 267us/step - loss: 1.1898 - accuracy: 0.5898 - val_loss: 1.4892 - val_accuracy: 0.4789\n",
      "Epoch 16/50\n",
      "50000/50000 [==============================] - 14s 277us/step - loss: 1.1664 - accuracy: 0.5995 - val_loss: 1.4700 - val_accuracy: 0.4916\n",
      "Epoch 17/50\n",
      "50000/50000 [==============================] - 13s 264us/step - loss: 1.1446 - accuracy: 0.6082 - val_loss: 1.4685 - val_accuracy: 0.4886\n",
      "Epoch 18/50\n",
      "50000/50000 [==============================] - 11s 211us/step - loss: 1.1220 - accuracy: 0.6174 - val_loss: 1.4763 - val_accuracy: 0.4889\n",
      "Epoch 19/50\n",
      "50000/50000 [==============================] - 8s 168us/step - loss: 1.0973 - accuracy: 0.6268 - val_loss: 1.4733 - val_accuracy: 0.4864\n",
      "Epoch 20/50\n",
      "50000/50000 [==============================] - 9s 181us/step - loss: 1.0773 - accuracy: 0.6345 - val_loss: 1.4652 - val_accuracy: 0.4899\n",
      "Epoch 21/50\n",
      "50000/50000 [==============================] - 12s 239us/step - loss: 1.0552 - accuracy: 0.6442 - val_loss: 1.4620 - val_accuracy: 0.4919\n",
      "Epoch 22/50\n",
      "50000/50000 [==============================] - 14s 274us/step - loss: 1.0342 - accuracy: 0.6514 - val_loss: 1.4590 - val_accuracy: 0.4956\n",
      "Epoch 23/50\n",
      "50000/50000 [==============================] - 14s 274us/step - loss: 1.0116 - accuracy: 0.6609 - val_loss: 1.4680 - val_accuracy: 0.4906\n",
      "Epoch 24/50\n",
      "50000/50000 [==============================] - 14s 278us/step - loss: 0.9908 - accuracy: 0.6692 - val_loss: 1.4713 - val_accuracy: 0.4881\n",
      "Epoch 25/50\n",
      "50000/50000 [==============================] - 13s 268us/step - loss: 0.9697 - accuracy: 0.6761 - val_loss: 1.4669 - val_accuracy: 0.4957\n",
      "Epoch 26/50\n",
      "50000/50000 [==============================] - 13s 270us/step - loss: 0.9483 - accuracy: 0.6848 - val_loss: 1.4735 - val_accuracy: 0.4892\n",
      "Epoch 27/50\n",
      "50000/50000 [==============================] - 13s 268us/step - loss: 0.9292 - accuracy: 0.6929 - val_loss: 1.4703 - val_accuracy: 0.4968\n",
      "Epoch 00027: early stopping\n"
     ]
    }
   ],
   "source": [
    "model = build_mlp(input_shape=x_train.shape[1:])\n",
    "model.summary()\n",
    "optimizer = keras.optimizers.SGD(lr=LEARNING_RATE, nesterov=True, momentum=MOMENTUM)\n",
    "model.compile(loss=\"categorical_crossentropy\", metrics=[\"accuracy\"], optimizer=optimizer)\n",
    "\n",
    "model.fit(x_train, y_train, \n",
    "          epochs=EPOCHS, \n",
    "          batch_size=BATCH_SIZE, \n",
    "          validation_data=(x_test, y_test), \n",
    "          shuffle=True,\n",
    "          callbacks=[earlystop]\n",
    "         )\n",
    "\n",
    "# Collect results\n",
    "train_loss = model.history.history[\"loss\"]\n",
    "valid_loss = model.history.history[\"val_loss\"]\n",
    "train_acc = model.history.history[\"accuracy\"]\n",
    "valid_acc = model.history.history[\"val_accuracy\"]"
   ]
  },
  {
   "cell_type": "code",
   "execution_count": 10,
   "metadata": {},
   "outputs": [
    {
     "data": {
      "image/png": "[encoded data removed]",
      "text/plain": [
       "<Figure size 432x288 with 1 Axes>"
      ]
     },
     "metadata": {
      "needs_background": "light"
     },
     "output_type": "display_data"
    },
    {
     "data": {
      "image/png": "[encoded data removed]",
      "text/plain": [
       "<Figure size 432x288 with 1 Axes>"
      ]
     },
     "metadata": {
      "needs_background": "light"
     },
     "output_type": "display_data"
    }
   ],
   "source": [
    "import matplotlib.pyplot as plt\n",
    "%matplotlib inline\n",
    "\n",
    "plt.plot(range(len(train_loss)), train_loss, label=\"train loss\")\n",
    "plt.plot(range(len(valid_loss)), valid_loss, label=\"valid loss\")\n",
    "plt.legend()\n",
    "plt.title(\"Loss\")\n",
    "plt.show()\n",
    "\n",
    "plt.plot(range(len(train_acc)), train_acc, label=\"train accuracy\")\n",
    "plt.plot(range(len(valid_acc)), valid_acc, label=\"valid accuracy\")\n",
    "plt.legend()\n",
    "plt.title(\"Accuracy\")\n",
    "plt.show()"
   ]
  },
  {
   "cell_type": "markdown",
   "metadata": {},
   "source": [
    "## Work\n",
    "1. 試改變 monitor \"Validation Accuracy\" 並比較結果\n",
    "2. 調整 earlystop 的等待次數至 10, 25 並比較結果"
   ]
  }
 ],
 "metadata": {
  "kernelspec": {
   "display_name": "Python 3",
   "language": "python",
   "name": "python3"
  },
  "language_info": {
   "codemirror_mode": {
    "name": "ipython",
    "version": 3
   },
   "file_extension": ".py",
   "mimetype": "text/x-python",
   "name": "python",
   "nbconvert_exporter": "python",
   "pygments_lexer": "ipython3",
   "version": "3.6.9"
  },
  "toc": {
   "base_numbering": 1,
   "nav_menu": {},
   "number_sections": true,
   "sideBar": true,
   "skip_h1_title": false,
   "title_cell": "Table of Contents",
   "title_sidebar": "Contents",
   "toc_cell": false,
   "toc_position": {},
   "toc_section_display": true,
   "toc_window_display": false
  }
 },
 "nbformat": 4,
 "nbformat_minor": 2
}
