{
 "cells": [
  {
   "cell_type": "markdown",
   "metadata": {},
   "source": [
    "## Work\n",
    "1. 請嘗試將 preproc_x 替換成以每筆資料的 min/max 進行標準化至 -1 ~ 1 間，再進行訓練\n",
    "2. 請嘗試將 mlp 疊更深 (e.g 5~10 層)，進行訓練後觀察 learning curve 的走勢\n",
    "3. (optional) 請改用 GPU 進行訓練 (如果你有 GPU 的話)，比較使用 CPU 與 GPU 的訓練速度"
   ]
  },
  {
   "cell_type": "code",
   "execution_count": 1,
   "metadata": {},
   "outputs": [],
   "source": [
    "## 確認硬體資源\n",
    "## 在 Windows, 請參考 https://blog.csdn.net/idwtwt/article/details/78017565)"
   ]
  },
  {
   "cell_type": "code",
   "execution_count": 2,
   "metadata": {},
   "outputs": [
    {
     "name": "stderr",
     "output_type": "stream",
     "text": [
      "Using TensorFlow backend.\n"
     ]
    }
   ],
   "source": [
    "import os\n",
    "import keras\n",
    "\n",
    "# 請嘗試設定 GPU：os.environ\n",
    "os.environ[\"CUDA_VISIBLE_DEVICES\"] = \"\""
   ]
  },
  {
   "cell_type": "code",
   "execution_count": 3,
   "metadata": {},
   "outputs": [],
   "source": [
    "train, test = keras.datasets.cifar10.load_data()"
   ]
  },
  {
   "cell_type": "code",
   "execution_count": 4,
   "metadata": {},
   "outputs": [],
   "source": [
    "## 資料前處理\n",
    "\"\"\"\n",
    "Your code here\n",
    "\"\"\"\n",
    "def preproc_x(x, flatten=True):\n",
    "    x = (x - x.min()) / (x.max() - x.min()) * 2 - 1\n",
    "    if flatten:\n",
    "        x = x.reshape((len(x), -1))\n",
    "    return x\n",
    "\n",
    "def preproc_y(y, num_classes=10):\n",
    "    if y.shape[-1] == 1:\n",
    "        y = keras.utils.to_categorical(y, num_classes)\n",
    "    return y"
   ]
  },
  {
   "cell_type": "code",
   "execution_count": 5,
   "metadata": {},
   "outputs": [],
   "source": [
    "x_train, y_train = train\n",
    "x_test, y_test = test\n",
    "\n",
    "# Preproc the inputs\n",
    "x_train = preproc_x(x_train)\n",
    "x_test = preproc_x(x_test)\n",
    "\n",
    "# Preprc the outputs\n",
    "y_train = preproc_y(y_train)\n",
    "y_test = preproc_y(y_test)"
   ]
  },
  {
   "cell_type": "code",
   "execution_count": 6,
   "metadata": {},
   "outputs": [
    {
     "name": "stdout",
     "output_type": "stream",
     "text": [
      "Model: \"model_1\"\n",
      "_________________________________________________________________\n",
      "Layer (type)                 Output Shape              Param #   \n",
      "=================================================================\n",
      "input_1 (InputLayer)         (None, 3072)              0         \n",
      "_________________________________________________________________\n",
      "hidden_layer1 (Dense)        (None, 512)               1573376   \n",
      "_________________________________________________________________\n",
      "hidden_layer2 (Dense)        (None, 256)               131328    \n",
      "_________________________________________________________________\n",
      "hidden_layer3 (Dense)        (None, 256)               65792     \n",
      "_________________________________________________________________\n",
      "hidden_layer4 (Dense)        (None, 256)               65792     \n",
      "_________________________________________________________________\n",
      "hidden_layer5 (Dense)        (None, 256)               65792     \n",
      "_________________________________________________________________\n",
      "hidden_layer6 (Dense)        (None, 256)               65792     \n",
      "_________________________________________________________________\n",
      "output (Dense)               (None, 10)                2570      \n",
      "=================================================================\n",
      "Total params: 1,970,442\n",
      "Trainable params: 1,970,442\n",
      "Non-trainable params: 0\n",
      "_________________________________________________________________\n"
     ]
    }
   ],
   "source": [
    "\"\"\"Code Here\n",
    "建立你的神經網路\n",
    "\"\"\"\n",
    "def build_mlp(input_shape, output_units=10, num_neurons=[512, 256, 256, 256, 256, 256]):\n",
    "    input_layer = keras.layers.Input(input_shape)\n",
    "    \n",
    "    for i, n_units in enumerate(num_neurons):\n",
    "        if i == 0:\n",
    "            x = keras.layers.Dense(units=n_units, activation=\"relu\", name=\"hidden_layer\"+str(i+1))(input_layer)\n",
    "        else:\n",
    "            x = keras.layers.Dense(units=n_units, activation=\"relu\", name=\"hidden_layer\"+str(i+1))(x)\n",
    "    \n",
    "    out = keras.layers.Dense(units=output_units, activation=\"softmax\", name=\"output\")(x)\n",
    "    \n",
    "    model = keras.models.Model(inputs=[input_layer], outputs=[out])\n",
    "    return model\n",
    "\n",
    "model = build_mlp(input_shape=x_train.shape[1:])\n",
    "model.summary()"
   ]
  },
  {
   "cell_type": "code",
   "execution_count": 7,
   "metadata": {},
   "outputs": [],
   "source": [
    "## 超參數設定\n",
    "LEARNING_RATE = 0.001\n",
    "EPOCHS = 100\n",
    "BATCH_SIZE = 256"
   ]
  },
  {
   "cell_type": "code",
   "execution_count": 8,
   "metadata": {},
   "outputs": [],
   "source": [
    "optimizer = keras.optimizers.Adam(lr=LEARNING_RATE)\n",
    "model.compile(loss=\"categorical_crossentropy\", metrics=[\"accuracy\"], optimizer=optimizer)"
   ]
  },
  {
   "cell_type": "code",
   "execution_count": 9,
   "metadata": {},
   "outputs": [
    {
     "name": "stdout",
     "output_type": "stream",
     "text": [
      "Train on 50000 samples, validate on 10000 samples\n",
      "Epoch 1/100\n",
      "50000/50000 [==============================] - 7s 143us/step - loss: 1.6899 - accuracy: 0.3945 - val_loss: 1.5568 - val_accuracy: 0.4507\n",
      "Epoch 2/100\n",
      "50000/50000 [==============================] - 7s 141us/step - loss: 1.4554 - accuracy: 0.4868 - val_loss: 1.4255 - val_accuracy: 0.4954\n",
      "Epoch 3/100\n",
      "50000/50000 [==============================] - 7s 146us/step - loss: 1.3378 - accuracy: 0.5275 - val_loss: 1.3627 - val_accuracy: 0.5142\n",
      "Epoch 4/100\n",
      "50000/50000 [==============================] - 8s 150us/step - loss: 1.2433 - accuracy: 0.5618 - val_loss: 1.4057 - val_accuracy: 0.5020\n",
      "Epoch 5/100\n",
      "50000/50000 [==============================] - 8s 150us/step - loss: 1.1644 - accuracy: 0.5871 - val_loss: 1.3651 - val_accuracy: 0.5197\n",
      "Epoch 6/100\n",
      "50000/50000 [==============================] - 8s 158us/step - loss: 1.0808 - accuracy: 0.6152 - val_loss: 1.3650 - val_accuracy: 0.5226\n",
      "Epoch 7/100\n",
      "50000/50000 [==============================] - 8s 153us/step - loss: 1.0021 - accuracy: 0.6415 - val_loss: 1.3686 - val_accuracy: 0.5285\n",
      "Epoch 8/100\n",
      "50000/50000 [==============================] - 7s 147us/step - loss: 0.9324 - accuracy: 0.6676 - val_loss: 1.4289 - val_accuracy: 0.5364\n",
      "Epoch 9/100\n",
      "50000/50000 [==============================] - 7s 149us/step - loss: 0.8532 - accuracy: 0.6951 - val_loss: 1.4329 - val_accuracy: 0.5271\n",
      "Epoch 10/100\n",
      "50000/50000 [==============================] - 8s 150us/step - loss: 0.7893 - accuracy: 0.7169 - val_loss: 1.5170 - val_accuracy: 0.5415\n",
      "Epoch 11/100\n",
      "50000/50000 [==============================] - 8s 155us/step - loss: 0.7261 - accuracy: 0.7388 - val_loss: 1.6018 - val_accuracy: 0.5247\n",
      "Epoch 12/100\n",
      "50000/50000 [==============================] - 8s 151us/step - loss: 0.6630 - accuracy: 0.7614 - val_loss: 1.6170 - val_accuracy: 0.5291\n",
      "Epoch 13/100\n",
      "50000/50000 [==============================] - 8s 154us/step - loss: 0.6080 - accuracy: 0.7828 - val_loss: 1.6737 - val_accuracy: 0.5310\n",
      "Epoch 14/100\n",
      "50000/50000 [==============================] - 7s 146us/step - loss: 0.5647 - accuracy: 0.7992 - val_loss: 1.8074 - val_accuracy: 0.5361\n",
      "Epoch 15/100\n",
      "50000/50000 [==============================] - 7s 149us/step - loss: 0.5157 - accuracy: 0.8160 - val_loss: 1.8834 - val_accuracy: 0.5214\n",
      "Epoch 16/100\n",
      "50000/50000 [==============================] - 8s 163us/step - loss: 0.4662 - accuracy: 0.8339 - val_loss: 1.8607 - val_accuracy: 0.5423\n",
      "Epoch 17/100\n",
      "50000/50000 [==============================] - 7s 149us/step - loss: 0.4223 - accuracy: 0.8492 - val_loss: 2.0134 - val_accuracy: 0.5332\n",
      "Epoch 18/100\n",
      "50000/50000 [==============================] - 7s 149us/step - loss: 0.4019 - accuracy: 0.8562 - val_loss: 2.1447 - val_accuracy: 0.5379\n",
      "Epoch 19/100\n",
      "50000/50000 [==============================] - 8s 164us/step - loss: 0.3624 - accuracy: 0.8694 - val_loss: 2.0934 - val_accuracy: 0.5319\n",
      "Epoch 20/100\n",
      "50000/50000 [==============================] - 7s 147us/step - loss: 0.3275 - accuracy: 0.8844 - val_loss: 2.3086 - val_accuracy: 0.5251\n",
      "Epoch 21/100\n",
      "50000/50000 [==============================] - 8s 151us/step - loss: 0.3111 - accuracy: 0.8910 - val_loss: 2.4098 - val_accuracy: 0.5365\n",
      "Epoch 22/100\n",
      "50000/50000 [==============================] - 7s 147us/step - loss: 0.2937 - accuracy: 0.8960 - val_loss: 2.5155 - val_accuracy: 0.5302\n",
      "Epoch 23/100\n",
      "50000/50000 [==============================] - 8s 154us/step - loss: 0.2649 - accuracy: 0.9078 - val_loss: 2.5896 - val_accuracy: 0.5216\n",
      "Epoch 24/100\n",
      "50000/50000 [==============================] - 7s 147us/step - loss: 0.2589 - accuracy: 0.9091 - val_loss: 2.6786 - val_accuracy: 0.5275\n",
      "Epoch 25/100\n",
      "50000/50000 [==============================] - 7s 149us/step - loss: 0.2502 - accuracy: 0.9125 - val_loss: 2.7007 - val_accuracy: 0.5295\n",
      "Epoch 26/100\n",
      "50000/50000 [==============================] - 8s 152us/step - loss: 0.2185 - accuracy: 0.9238 - val_loss: 2.7616 - val_accuracy: 0.5273\n",
      "Epoch 27/100\n",
      "50000/50000 [==============================] - 8s 159us/step - loss: 0.2056 - accuracy: 0.9286 - val_loss: 2.8421 - val_accuracy: 0.5306\n",
      "Epoch 28/100\n",
      "50000/50000 [==============================] - 8s 150us/step - loss: 0.2070 - accuracy: 0.9278 - val_loss: 2.9968 - val_accuracy: 0.5294\n",
      "Epoch 29/100\n",
      "50000/50000 [==============================] - 8s 151us/step - loss: 0.2001 - accuracy: 0.9301 - val_loss: 2.9249 - val_accuracy: 0.5291\n",
      "Epoch 30/100\n",
      "50000/50000 [==============================] - 8s 157us/step - loss: 0.1893 - accuracy: 0.9346 - val_loss: 2.8842 - val_accuracy: 0.5324\n",
      "Epoch 31/100\n",
      "50000/50000 [==============================] - 8s 161us/step - loss: 0.1830 - accuracy: 0.9381 - val_loss: 2.7940 - val_accuracy: 0.5374\n",
      "Epoch 32/100\n",
      "50000/50000 [==============================] - 8s 156us/step - loss: 0.1634 - accuracy: 0.9444 - val_loss: 3.2133 - val_accuracy: 0.5279\n",
      "Epoch 33/100\n",
      "50000/50000 [==============================] - 8s 153us/step - loss: 0.1670 - accuracy: 0.9428 - val_loss: 3.1055 - val_accuracy: 0.5299\n",
      "Epoch 34/100\n",
      "50000/50000 [==============================] - 8s 156us/step - loss: 0.1697 - accuracy: 0.9424 - val_loss: 3.0519 - val_accuracy: 0.5309\n",
      "Epoch 35/100\n",
      "50000/50000 [==============================] - 8s 158us/step - loss: 0.1555 - accuracy: 0.9475 - val_loss: 3.1128 - val_accuracy: 0.5343\n",
      "Epoch 36/100\n",
      "50000/50000 [==============================] - 8s 167us/step - loss: 0.1592 - accuracy: 0.9464 - val_loss: 3.1465 - val_accuracy: 0.5284\n",
      "Epoch 37/100\n",
      "50000/50000 [==============================] - 8s 157us/step - loss: 0.1502 - accuracy: 0.9486 - val_loss: 3.3031 - val_accuracy: 0.5242\n",
      "Epoch 38/100\n",
      "50000/50000 [==============================] - 8s 162us/step - loss: 0.1407 - accuracy: 0.9520 - val_loss: 3.3496 - val_accuracy: 0.5248\n",
      "Epoch 39/100\n",
      "50000/50000 [==============================] - 8s 160us/step - loss: 0.1417 - accuracy: 0.9525 - val_loss: 3.3967 - val_accuracy: 0.5261\n",
      "Epoch 40/100\n",
      "50000/50000 [==============================] - 8s 158us/step - loss: 0.1438 - accuracy: 0.9515 - val_loss: 3.0272 - val_accuracy: 0.5340\n",
      "Epoch 41/100\n",
      "50000/50000 [==============================] - 8s 156us/step - loss: 0.1297 - accuracy: 0.9559 - val_loss: 3.2852 - val_accuracy: 0.5319\n",
      "Epoch 42/100\n",
      "50000/50000 [==============================] - 8s 162us/step - loss: 0.1290 - accuracy: 0.9563 - val_loss: 3.2538 - val_accuracy: 0.5265\n",
      "Epoch 43/100\n",
      "50000/50000 [==============================] - 8s 158us/step - loss: 0.1306 - accuracy: 0.9558 - val_loss: 3.2978 - val_accuracy: 0.5297\n",
      "Epoch 44/100\n",
      "50000/50000 [==============================] - 8s 157us/step - loss: 0.1315 - accuracy: 0.9544 - val_loss: 3.5011 - val_accuracy: 0.5216\n",
      "Epoch 45/100\n",
      "50000/50000 [==============================] - 8s 150us/step - loss: 0.1251 - accuracy: 0.9589 - val_loss: 3.4140 - val_accuracy: 0.5345\n",
      "Epoch 46/100\n",
      "50000/50000 [==============================] - 8s 169us/step - loss: 0.1191 - accuracy: 0.9602 - val_loss: 3.4472 - val_accuracy: 0.5349\n",
      "Epoch 47/100\n",
      "50000/50000 [==============================] - 9s 172us/step - loss: 0.1160 - accuracy: 0.9622 - val_loss: 3.4723 - val_accuracy: 0.5385\n",
      "Epoch 48/100\n",
      "50000/50000 [==============================] - 8s 158us/step - loss: 0.1118 - accuracy: 0.9627 - val_loss: 3.5932 - val_accuracy: 0.5378\n",
      "Epoch 49/100\n",
      "50000/50000 [==============================] - 8s 155us/step - loss: 0.1089 - accuracy: 0.9638 - val_loss: 3.5894 - val_accuracy: 0.5230\n",
      "Epoch 50/100\n",
      "50000/50000 [==============================] - 8s 162us/step - loss: 0.1056 - accuracy: 0.9645 - val_loss: 3.5018 - val_accuracy: 0.5279\n",
      "Epoch 51/100\n",
      "50000/50000 [==============================] - 8s 156us/step - loss: 0.1099 - accuracy: 0.9646 - val_loss: 3.5367 - val_accuracy: 0.5333\n",
      "Epoch 52/100\n",
      "50000/50000 [==============================] - 8s 154us/step - loss: 0.1156 - accuracy: 0.9621 - val_loss: 3.3927 - val_accuracy: 0.5311\n",
      "Epoch 53/100\n",
      "50000/50000 [==============================] - 8s 153us/step - loss: 0.0940 - accuracy: 0.9688 - val_loss: 3.5864 - val_accuracy: 0.5299\n",
      "Epoch 54/100\n",
      "50000/50000 [==============================] - 8s 165us/step - loss: 0.1109 - accuracy: 0.9628 - val_loss: 3.4688 - val_accuracy: 0.5343\n",
      "Epoch 55/100\n"
     ]
    },
    {
     "name": "stdout",
     "output_type": "stream",
     "text": [
      "50000/50000 [==============================] - 8s 153us/step - loss: 0.1092 - accuracy: 0.9644 - val_loss: 3.4896 - val_accuracy: 0.5293\n",
      "Epoch 56/100\n",
      "50000/50000 [==============================] - 8s 152us/step - loss: 0.1050 - accuracy: 0.9653 - val_loss: 3.5550 - val_accuracy: 0.5304\n",
      "Epoch 57/100\n",
      "50000/50000 [==============================] - 8s 151us/step - loss: 0.1009 - accuracy: 0.9676 - val_loss: 3.8636 - val_accuracy: 0.5307\n",
      "Epoch 58/100\n",
      "50000/50000 [==============================] - 8s 156us/step - loss: 0.0959 - accuracy: 0.9681 - val_loss: 3.7603 - val_accuracy: 0.5307\n",
      "Epoch 59/100\n",
      "50000/50000 [==============================] - 7s 148us/step - loss: 0.0989 - accuracy: 0.9683 - val_loss: 3.5390 - val_accuracy: 0.5257\n",
      "Epoch 60/100\n",
      "50000/50000 [==============================] - 8s 153us/step - loss: 0.0959 - accuracy: 0.9688 - val_loss: 3.7143 - val_accuracy: 0.5307\n",
      "Epoch 61/100\n",
      "50000/50000 [==============================] - 7s 150us/step - loss: 0.1020 - accuracy: 0.9660 - val_loss: 3.4029 - val_accuracy: 0.5308\n",
      "Epoch 62/100\n",
      "50000/50000 [==============================] - 8s 156us/step - loss: 0.0930 - accuracy: 0.9695 - val_loss: 3.7395 - val_accuracy: 0.5309\n",
      "Epoch 63/100\n",
      "50000/50000 [==============================] - 8s 150us/step - loss: 0.0913 - accuracy: 0.9708 - val_loss: 3.7102 - val_accuracy: 0.5321\n",
      "Epoch 64/100\n",
      "50000/50000 [==============================] - 8s 153us/step - loss: 0.0894 - accuracy: 0.9709 - val_loss: 3.7754 - val_accuracy: 0.5282\n",
      "Epoch 65/100\n",
      "50000/50000 [==============================] - 8s 156us/step - loss: 0.0813 - accuracy: 0.9732 - val_loss: 4.0225 - val_accuracy: 0.5242\n",
      "Epoch 66/100\n",
      "50000/50000 [==============================] - 8s 169us/step - loss: 0.0936 - accuracy: 0.9704 - val_loss: 3.9060 - val_accuracy: 0.5304\n",
      "Epoch 67/100\n",
      "50000/50000 [==============================] - 8s 156us/step - loss: 0.0804 - accuracy: 0.9736 - val_loss: 3.7382 - val_accuracy: 0.5251\n",
      "Epoch 68/100\n",
      "50000/50000 [==============================] - 8s 160us/step - loss: 0.1008 - accuracy: 0.9669 - val_loss: 3.6679 - val_accuracy: 0.5340\n",
      "Epoch 69/100\n",
      "50000/50000 [==============================] - 8s 159us/step - loss: 0.0818 - accuracy: 0.9740 - val_loss: 3.8478 - val_accuracy: 0.5337\n",
      "Epoch 70/100\n",
      "50000/50000 [==============================] - 8s 157us/step - loss: 0.0863 - accuracy: 0.9719 - val_loss: 3.7064 - val_accuracy: 0.5346\n",
      "Epoch 71/100\n",
      "50000/50000 [==============================] - 8s 159us/step - loss: 0.0907 - accuracy: 0.9701 - val_loss: 3.7902 - val_accuracy: 0.5394\n",
      "Epoch 72/100\n",
      "50000/50000 [==============================] - 8s 159us/step - loss: 0.0924 - accuracy: 0.9711 - val_loss: 3.7443 - val_accuracy: 0.5413\n",
      "Epoch 73/100\n",
      "50000/50000 [==============================] - 8s 159us/step - loss: 0.0662 - accuracy: 0.9788 - val_loss: 3.7972 - val_accuracy: 0.5318\n",
      "Epoch 74/100\n",
      "50000/50000 [==============================] - 8s 166us/step - loss: 0.0893 - accuracy: 0.9702 - val_loss: 3.8022 - val_accuracy: 0.5349\n",
      "Epoch 75/100\n",
      "50000/50000 [==============================] - 8s 158us/step - loss: 0.0883 - accuracy: 0.9720 - val_loss: 3.9155 - val_accuracy: 0.5313\n",
      "Epoch 76/100\n",
      "50000/50000 [==============================] - 8s 161us/step - loss: 0.0653 - accuracy: 0.9791 - val_loss: 4.2542 - val_accuracy: 0.5218\n",
      "Epoch 77/100\n",
      "50000/50000 [==============================] - 8s 162us/step - loss: 0.0931 - accuracy: 0.9701 - val_loss: 3.9125 - val_accuracy: 0.5357\n",
      "Epoch 78/100\n",
      "50000/50000 [==============================] - 8s 154us/step - loss: 0.0749 - accuracy: 0.9760 - val_loss: 3.8713 - val_accuracy: 0.5344\n",
      "Epoch 79/100\n",
      "50000/50000 [==============================] - 8s 155us/step - loss: 0.0761 - accuracy: 0.9754 - val_loss: 4.1707 - val_accuracy: 0.5365\n",
      "Epoch 80/100\n",
      "50000/50000 [==============================] - 8s 163us/step - loss: 0.0719 - accuracy: 0.9774 - val_loss: 3.9413 - val_accuracy: 0.5298\n",
      "Epoch 81/100\n",
      "50000/50000 [==============================] - 8s 161us/step - loss: 0.0727 - accuracy: 0.9770 - val_loss: 3.9423 - val_accuracy: 0.5389\n",
      "Epoch 82/100\n",
      "50000/50000 [==============================] - 8s 157us/step - loss: 0.0766 - accuracy: 0.9751 - val_loss: 3.8910 - val_accuracy: 0.5357\n",
      "Epoch 83/100\n",
      "50000/50000 [==============================] - 8s 157us/step - loss: 0.0696 - accuracy: 0.9786 - val_loss: 4.0235 - val_accuracy: 0.5340\n",
      "Epoch 84/100\n",
      "50000/50000 [==============================] - 8s 162us/step - loss: 0.0931 - accuracy: 0.9698 - val_loss: 3.9053 - val_accuracy: 0.5371\n",
      "Epoch 85/100\n",
      "50000/50000 [==============================] - 8s 154us/step - loss: 0.0663 - accuracy: 0.9791 - val_loss: 3.8890 - val_accuracy: 0.5222\n",
      "Epoch 86/100\n",
      "50000/50000 [==============================] - 9s 185us/step - loss: 0.0777 - accuracy: 0.9755 - val_loss: 4.0335 - val_accuracy: 0.5265\n",
      "Epoch 87/100\n",
      "50000/50000 [==============================] - 9s 178us/step - loss: 0.0826 - accuracy: 0.9740 - val_loss: 3.8621 - val_accuracy: 0.5305\n",
      "Epoch 88/100\n",
      "50000/50000 [==============================] - 8s 155us/step - loss: 0.0676 - accuracy: 0.9788 - val_loss: 4.1218 - val_accuracy: 0.5344\n",
      "Epoch 89/100\n",
      "50000/50000 [==============================] - 7s 148us/step - loss: 0.0689 - accuracy: 0.9773 - val_loss: 4.3121 - val_accuracy: 0.5376\n",
      "Epoch 90/100\n",
      "50000/50000 [==============================] - 8s 153us/step - loss: 0.0758 - accuracy: 0.9767 - val_loss: 3.8378 - val_accuracy: 0.5363\n",
      "Epoch 91/100\n",
      "50000/50000 [==============================] - 7s 149us/step - loss: 0.0748 - accuracy: 0.9765 - val_loss: 3.9249 - val_accuracy: 0.5353\n",
      "Epoch 92/100\n",
      "50000/50000 [==============================] - 8s 157us/step - loss: 0.0659 - accuracy: 0.9795 - val_loss: 3.9690 - val_accuracy: 0.5358\n",
      "Epoch 93/100\n",
      "50000/50000 [==============================] - 8s 157us/step - loss: 0.0707 - accuracy: 0.9780 - val_loss: 3.9488 - val_accuracy: 0.5302\n",
      "Epoch 94/100\n",
      "50000/50000 [==============================] - 8s 166us/step - loss: 0.0726 - accuracy: 0.9768 - val_loss: 4.2302 - val_accuracy: 0.5280\n",
      "Epoch 95/100\n",
      "50000/50000 [==============================] - 8s 159us/step - loss: 0.0688 - accuracy: 0.9788 - val_loss: 4.3104 - val_accuracy: 0.5317\n",
      "Epoch 96/100\n",
      "50000/50000 [==============================] - 8s 163us/step - loss: 0.0728 - accuracy: 0.9774 - val_loss: 3.9741 - val_accuracy: 0.5356\n",
      "Epoch 97/100\n",
      "50000/50000 [==============================] - 8s 153us/step - loss: 0.0676 - accuracy: 0.9793 - val_loss: 3.7638 - val_accuracy: 0.5338\n",
      "Epoch 98/100\n",
      "50000/50000 [==============================] - 8s 153us/step - loss: 0.0573 - accuracy: 0.9815 - val_loss: 4.3814 - val_accuracy: 0.5341\n",
      "Epoch 99/100\n",
      "50000/50000 [==============================] - 8s 163us/step - loss: 0.0663 - accuracy: 0.9794 - val_loss: 3.8031 - val_accuracy: 0.5267\n",
      "Epoch 100/100\n",
      "50000/50000 [==============================] - 8s 155us/step - loss: 0.0602 - accuracy: 0.9814 - val_loss: 4.3363 - val_accuracy: 0.5316\n"
     ]
    },
    {
     "data": {
      "text/plain": [
       "<keras.callbacks.callbacks.History at 0x22abd4855c0>"
      ]
     },
     "execution_count": 9,
     "metadata": {},
     "output_type": "execute_result"
    }
   ],
   "source": [
    "model.fit(x_train, y_train, \n",
    "          epochs=EPOCHS, \n",
    "          batch_size=BATCH_SIZE, \n",
    "          validation_data=(x_test, y_test), \n",
    "          shuffle=True)"
   ]
  },
  {
   "cell_type": "code",
   "execution_count": 11,
   "metadata": {},
   "outputs": [
    {
     "data": {
      "image/png": "[encoded data removed]",
      "text/plain": [
       "<Figure size 432x288 with 1 Axes>"
      ]
     },
     "metadata": {
      "needs_background": "light"
     },
     "output_type": "display_data"
    },
    {
     "data": {
      "image/png": "[encoded data removed]",
      "text/plain": [
       "<Figure size 432x288 with 1 Axes>"
      ]
     },
     "metadata": {
      "needs_background": "light"
     },
     "output_type": "display_data"
    }
   ],
   "source": [
    "import matplotlib.pyplot as plt\n",
    "\n",
    "\n",
    "train_loss = model.history.history[\"loss\"]\n",
    "valid_loss = model.history.history[\"val_loss\"]\n",
    "\n",
    "train_acc = model.history.history[\"accuracy\"]\n",
    "valid_acc = model.history.history[\"val_accuracy\"]\n",
    "\n",
    "plt.plot(range(len(train_loss)), train_loss, label=\"train loss\")\n",
    "plt.plot(range(len(valid_loss)), valid_loss, label=\"valid loss\")\n",
    "plt.legend()\n",
    "plt.title(\"Loss\")\n",
    "plt.show()\n",
    "\n",
    "plt.plot(range(len(train_acc)), train_acc, label=\"train accuracy\")\n",
    "plt.plot(range(len(valid_acc)), valid_acc, label=\"valid accuracy\")\n",
    "plt.legend()\n",
    "plt.title(\"Accuracy\")\n",
    "plt.show()"
   ]
  },
  {
   "cell_type": "code",
   "execution_count": null,
   "metadata": {},
   "outputs": [],
   "source": []
  }
 ],
 "metadata": {
  "kernelspec": {
   "display_name": "Python 3",
   "language": "python",
   "name": "python3"
  },
  "language_info": {
   "codemirror_mode": {
    "name": "ipython",
    "version": 3
   },
   "file_extension": ".py",
   "mimetype": "text/x-python",
   "name": "python",
   "nbconvert_exporter": "python",
   "pygments_lexer": "ipython3",
   "version": "3.6.9"
  },
  "toc": {
   "base_numbering": 1,
   "nav_menu": {},
   "number_sections": true,
   "sideBar": true,
   "skip_h1_title": false,
   "title_cell": "Table of Contents",
   "title_sidebar": "Contents",
   "toc_cell": false,
   "toc_position": {},
   "toc_section_display": true,
   "toc_window_display": false
  }
 },
 "nbformat": 4,
 "nbformat_minor": 2
}
