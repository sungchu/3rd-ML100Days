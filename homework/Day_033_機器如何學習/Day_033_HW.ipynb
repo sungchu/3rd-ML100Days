{
 "cells": [
  {
   "cell_type": "markdown",
   "metadata": {},
   "source": [
    "## 練習時間"
   ]
  },
  {
   "cell_type": "markdown",
   "metadata": {},
   "source": [
    "請觀看李宏毅教授以神奇寶貝進化 CP 值預測的範例，解說何謂機器學習與過擬合。並回答以下問題"
   ]
  },
  {
   "cell_type": "markdown",
   "metadata": {},
   "source": [
    "[youtube](https://www.youtube.com/watch?v=fegAeph9UaA)"
   ]
  },
  {
   "cell_type": "markdown",
   "metadata": {},
   "source": [
    "### 1. 模型的泛化能力 (generalization) 是指什麼？ \n",
    "> 對 testing data(未接觸過資料) 的預測能力。泛化能力越高代表模型在沒看過的測試資料上的表現能夠越好\n",
    "### 2. 分類問題與回歸問題分別可用的目標函數有哪些？\n",
    "- 分類問題\n",
    "    - 0-1 Loss Function\n",
    "    - 交叉熵損失函數 (Cross-entropy Loss Function)\n",
    "    - Log Loss Function\n",
    "    - Focal Loss Function\n",
    "    - KL Divergence/Relative entropy\n",
    "    - Exponential loss\n",
    "    - Hinge loss    \n",
    "- 回歸問題\n",
    "    - 平均絕對誤差(MAE) = L1 Loss Function\n",
    "    - 均方差(MSE) = L2 Loss Function\n",
    "    - 平滑平均絕對誤差(Huber Loss)\n",
    "    - Log-Cosh Loss\n",
    "    - Quantile Loss"
   ]
  }
 ],
 "metadata": {
  "kernelspec": {
   "display_name": "Python 3",
   "language": "python",
   "name": "python3"
  },
  "language_info": {
   "codemirror_mode": {
    "name": "ipython",
    "version": 3
   },
   "file_extension": ".py",
   "mimetype": "text/x-python",
   "name": "python",
   "nbconvert_exporter": "python",
   "pygments_lexer": "ipython3",
   "version": "3.7.3"
  },
  "toc": {
   "base_numbering": 1,
   "nav_menu": {},
   "number_sections": true,
   "sideBar": true,
   "skip_h1_title": false,
   "title_cell": "Table of Contents",
   "title_sidebar": "Contents",
   "toc_cell": false,
   "toc_position": {},
   "toc_section_display": true,
   "toc_window_display": false
  }
 },
 "nbformat": 4,
 "nbformat_minor": 2
}
