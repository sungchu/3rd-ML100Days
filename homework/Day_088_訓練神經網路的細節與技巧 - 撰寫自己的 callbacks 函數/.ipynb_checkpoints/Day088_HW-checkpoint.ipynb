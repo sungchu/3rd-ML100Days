{
 "cells": [
  {
   "cell_type": "markdown",
   "metadata": {},
   "source": [
    "## Work\n",
    "1. 請嘗試寫一個 callback 用來記錄各類別在訓練過程中，對驗證集的 True Positive 與 True Negative"
   ]
  },
  {
   "cell_type": "code",
   "execution_count": 1,
   "metadata": {},
   "outputs": [
    {
     "name": "stderr",
     "output_type": "stream",
     "text": [
      "Using TensorFlow backend.\n"
     ]
    }
   ],
   "source": [
    "import os\n",
    "import keras\n",
    "\n",
    "# Disable GPU\n",
    "os.environ[\"CUDA_VISIBLE_DEVICES\"] = \"\""
   ]
  },
  {
   "cell_type": "code",
   "execution_count": 2,
   "metadata": {},
   "outputs": [],
   "source": [
    "train, test = keras.datasets.cifar10.load_data()"
   ]
  },
  {
   "cell_type": "code",
   "execution_count": 3,
   "metadata": {},
   "outputs": [],
   "source": [
    "## 資料前處理\n",
    "def preproc_x(x, flatten=True):\n",
    "    x = x / 255.\n",
    "    if flatten:\n",
    "        x = x.reshape((len(x), -1))\n",
    "    return x\n",
    "\n",
    "def preproc_y(y, num_classes=10):\n",
    "    if y.shape[-1] == 1:\n",
    "        y = keras.utils.to_categorical(y, num_classes)\n",
    "    return y    "
   ]
  },
  {
   "cell_type": "code",
   "execution_count": 4,
   "metadata": {},
   "outputs": [],
   "source": [
    "x_train, y_train = train\n",
    "x_test, y_test = test\n",
    "\n",
    "# Preproc the inputs\n",
    "x_train = preproc_x(x_train)\n",
    "x_test = preproc_x(x_test)\n",
    "\n",
    "# Preprc the outputs\n",
    "y_train = preproc_y(y_train)\n",
    "y_test = preproc_y(y_test)"
   ]
  },
  {
   "cell_type": "code",
   "execution_count": 5,
   "metadata": {},
   "outputs": [],
   "source": [
    "from keras.layers import BatchNormalization\n",
    "def build_mlp(input_shape, output_units=10, num_neurons=[256, 256, 256]):\n",
    "    \"\"\"Code Here\n",
    "    建立你的神經網路\n",
    "    \"\"\"\n",
    "    input_layer = keras.layers.Input(input_shape)\n",
    "    \n",
    "    for i, n_units in enumerate(num_neurons):\n",
    "        if i == 0:\n",
    "            x = keras.layers.Dense(units=n_units, \n",
    "                                   activation=\"relu\", \n",
    "                                   name=\"hidden_layer\"+str(i+1))(input_layer)\n",
    "            x = BatchNormalization()(x)\n",
    "        else:\n",
    "            x = keras.layers.Dense(units=n_units, \n",
    "                                   activation=\"relu\", \n",
    "                                   name=\"hidden_layer\"+str(i+1))(x)\n",
    "            x = BatchNormalization()(x)\n",
    "    \n",
    "    out = keras.layers.Dense(units=output_units, activation=\"softmax\", name=\"output\")(x)\n",
    "    \n",
    "    model = keras.models.Model(inputs=[input_layer], outputs=[out])\n",
    "    return model"
   ]
  },
  {
   "cell_type": "code",
   "execution_count": 6,
   "metadata": {},
   "outputs": [],
   "source": [
    "## 超參數設定\n",
    "LEARNING_RATE = 1e-3\n",
    "EPOCHS = 25\n",
    "BATCH_SIZE = 1024\n",
    "MOMENTUM = 0.95"
   ]
  },
  {
   "cell_type": "code",
   "execution_count": 7,
   "metadata": {},
   "outputs": [],
   "source": [
    "# 載入 Callbacks\n",
    "from keras.callbacks import Callback\n",
    "import numpy as np\n",
    "\n",
    "# Record_fp_tp\n",
    "class Record_tp_tn(Callback):\n",
    "    \"\"\"Code Here\n",
    "    撰寫一個紀錄 ture positive 與 true negative 數量的 callbacks    \n",
    "    \"\"\"\n",
    "    def on_train_begin(self, epoch, logs = {}):\n",
    "        logs = logs or {}\n",
    "        record_items = [\"val_auc\", \"val_f1sc\", \"val_fp\", \"val_fn\", \"val_tp\", \"val_tn\"]\n",
    "        for i in record_items:\n",
    "            if i not in self.params['metrics']:\n",
    "                self.params['metrics'].append(i)\n",
    "    \n",
    "    def on_epoch_end(self, epoch, logs = {}, thres=0.5):\n",
    "        logs = logs or {}\n",
    "        y_true = self.validation_data[1].argmax(axis = 1)\n",
    "        y_pred = self.model.predict(self.validation_data[0])\n",
    "        y_pred = (y_pred[:, 1] >= thres) * 1\n",
    "        \n",
    "        # Calculate True Positive, True Negative\n",
    "        logs[\"val_tp\"] = np.sum(np.logical_and(y_pred == 1, y_true == 1))\n",
    "        logs[\"val_tn\"] = np.sum(np.logical_and(y_pred == 0, y_true == 0))\n",
    "        \n",
    "rec_tptn = Record_tp_tn()"
   ]
  },
  {
   "cell_type": "code",
   "execution_count": 8,
   "metadata": {
    "scrolled": true
   },
   "outputs": [
    {
     "name": "stdout",
     "output_type": "stream",
     "text": [
      "Model: \"model_1\"\n",
      "_________________________________________________________________\n",
      "Layer (type)                 Output Shape              Param #   \n",
      "=================================================================\n",
      "input_1 (InputLayer)         (None, 3072)              0         \n",
      "_________________________________________________________________\n",
      "hidden_layer1 (Dense)        (None, 256)               786688    \n",
      "_________________________________________________________________\n",
      "batch_normalization_1 (Batch (None, 256)               1024      \n",
      "_________________________________________________________________\n",
      "hidden_layer2 (Dense)        (None, 256)               65792     \n",
      "_________________________________________________________________\n",
      "batch_normalization_2 (Batch (None, 256)               1024      \n",
      "_________________________________________________________________\n",
      "hidden_layer3 (Dense)        (None, 256)               65792     \n",
      "_________________________________________________________________\n",
      "batch_normalization_3 (Batch (None, 256)               1024      \n",
      "_________________________________________________________________\n",
      "output (Dense)               (None, 10)                2570      \n",
      "=================================================================\n",
      "Total params: 923,914\n",
      "Trainable params: 922,378\n",
      "Non-trainable params: 1,536\n",
      "_________________________________________________________________\n",
      "Train on 50000 samples, validate on 10000 samples\n",
      "Epoch 1/25\n",
      "50000/50000 [==============================] - 4s 77us/step - loss: 2.2499 - accuracy: 0.2603 - val_loss: 2.1553 - val_accuracy: 0.2196\n",
      "Epoch 2/25\n",
      "50000/50000 [==============================] - 3s 67us/step - loss: 1.7735 - accuracy: 0.3822 - val_loss: 1.9846 - val_accuracy: 0.2921\n",
      "Epoch 3/25\n",
      "50000/50000 [==============================] - 3s 67us/step - loss: 1.6446 - accuracy: 0.4245 - val_loss: 1.8272 - val_accuracy: 0.3644\n",
      "Epoch 4/25\n",
      "50000/50000 [==============================] - 3s 66us/step - loss: 1.5689 - accuracy: 0.4506 - val_loss: 1.7038 - val_accuracy: 0.4192\n",
      "Epoch 5/25\n",
      "50000/50000 [==============================] - 3s 69us/step - loss: 1.5131 - accuracy: 0.4705 - val_loss: 1.6298 - val_accuracy: 0.4309\n",
      "Epoch 6/25\n",
      "50000/50000 [==============================] - 3s 67us/step - loss: 1.4689 - accuracy: 0.4870 - val_loss: 1.5805 - val_accuracy: 0.4459\n",
      "Epoch 7/25\n",
      "50000/50000 [==============================] - 3s 67us/step - loss: 1.4299 - accuracy: 0.5020 - val_loss: 1.5471 - val_accuracy: 0.4511\n",
      "Epoch 8/25\n",
      "50000/50000 [==============================] - 4s 75us/step - loss: 1.3962 - accuracy: 0.5134 - val_loss: 1.5235 - val_accuracy: 0.4612\n",
      "Epoch 9/25\n",
      "50000/50000 [==============================] - 3s 65us/step - loss: 1.3666 - accuracy: 0.5227 - val_loss: 1.5203 - val_accuracy: 0.4612\n",
      "Epoch 10/25\n",
      "50000/50000 [==============================] - 3s 67us/step - loss: 1.3380 - accuracy: 0.5336 - val_loss: 1.4957 - val_accuracy: 0.4706\n",
      "Epoch 11/25\n",
      "50000/50000 [==============================] - 3s 65us/step - loss: 1.3109 - accuracy: 0.5441 - val_loss: 1.4975 - val_accuracy: 0.4725\n",
      "Epoch 12/25\n",
      "50000/50000 [==============================] - 3s 69us/step - loss: 1.2866 - accuracy: 0.5526 - val_loss: 1.4848 - val_accuracy: 0.4767\n",
      "Epoch 13/25\n",
      "50000/50000 [==============================] - 3s 67us/step - loss: 1.2653 - accuracy: 0.5609 - val_loss: 1.4791 - val_accuracy: 0.4792\n",
      "Epoch 14/25\n",
      "50000/50000 [==============================] - 3s 70us/step - loss: 1.2427 - accuracy: 0.5691 - val_loss: 1.4745 - val_accuracy: 0.4818\n",
      "Epoch 15/25\n",
      "50000/50000 [==============================] - 3s 66us/step - loss: 1.2212 - accuracy: 0.5780 - val_loss: 1.4696 - val_accuracy: 0.4839\n",
      "Epoch 16/25\n",
      "50000/50000 [==============================] - 3s 66us/step - loss: 1.1996 - accuracy: 0.5846 - val_loss: 1.4753 - val_accuracy: 0.4741\n",
      "Epoch 17/25\n",
      "50000/50000 [==============================] - 3s 70us/step - loss: 1.1812 - accuracy: 0.5917 - val_loss: 1.4627 - val_accuracy: 0.4898\n",
      "Epoch 18/25\n",
      "50000/50000 [==============================] - 4s 74us/step - loss: 1.1625 - accuracy: 0.5985 - val_loss: 1.4578 - val_accuracy: 0.4873\n",
      "Epoch 19/25\n",
      "50000/50000 [==============================] - 4s 70us/step - loss: 1.1440 - accuracy: 0.6052 - val_loss: 1.4618 - val_accuracy: 0.4891\n",
      "Epoch 20/25\n",
      "50000/50000 [==============================] - 4s 73us/step - loss: 1.1256 - accuracy: 0.6115 - val_loss: 1.4621 - val_accuracy: 0.4915\n",
      "Epoch 21/25\n",
      "50000/50000 [==============================] - 4s 73us/step - loss: 1.1079 - accuracy: 0.6193 - val_loss: 1.4502 - val_accuracy: 0.4925\n",
      "Epoch 22/25\n",
      "50000/50000 [==============================] - 4s 76us/step - loss: 1.0886 - accuracy: 0.6266 - val_loss: 1.4503 - val_accuracy: 0.4950\n",
      "Epoch 23/25\n",
      "50000/50000 [==============================] - 4s 73us/step - loss: 1.0717 - accuracy: 0.6343 - val_loss: 1.4406 - val_accuracy: 0.4996\n",
      "Epoch 24/25\n",
      "50000/50000 [==============================] - 4s 71us/step - loss: 1.0539 - accuracy: 0.6394 - val_loss: 1.4477 - val_accuracy: 0.4995\n",
      "Epoch 25/25\n",
      "50000/50000 [==============================] - 4s 75us/step - loss: 1.0392 - accuracy: 0.6454 - val_loss: 1.4410 - val_accuracy: 0.4985\n"
     ]
    }
   ],
   "source": [
    "model = build_mlp(input_shape=x_train.shape[1:])\n",
    "model.summary()\n",
    "optimizer = keras.optimizers.SGD(lr=LEARNING_RATE, nesterov=True, momentum=MOMENTUM)\n",
    "model.compile(loss=\"categorical_crossentropy\", metrics=[\"accuracy\"], optimizer=optimizer)\n",
    "\n",
    "\"\"\"Code Here\n",
    "將 callbacks 放入模型訓練流程中\n",
    "\"\"\"\n",
    "model.fit(x_train, y_train, \n",
    "          epochs=EPOCHS, \n",
    "          batch_size=BATCH_SIZE, \n",
    "          validation_data=(x_test, y_test), \n",
    "          shuffle=True,\n",
    "          callbacks=[rec_tptn]) # callbacks 紀錄 驗證集的 True Positive 與 True Negative\n",
    "\n",
    "# Collect results\n",
    "train_loss = model.history.history[\"loss\"]\n",
    "valid_loss = model.history.history[\"val_loss\"]\n",
    "train_acc = model.history.history[\"accuracy\"]\n",
    "valid_acc = model.history.history[\"val_accuracy\"]\n",
    "\n",
    "\"\"\"Code Here\n",
    "將 tp/tn 從訓練完的模型中取出\n",
    "\"\"\"\n",
    "valid_tp = model.history.history['val_tp']\n",
    "valid_tn = model.history.history['val_tn']"
   ]
  },
  {
   "cell_type": "code",
   "execution_count": 9,
   "metadata": {},
   "outputs": [
    {
     "data": {
      "image/png": "[encoded data removed]",
      "text/plain": [
       "<Figure size 432x288 with 1 Axes>"
      ]
     },
     "metadata": {
      "needs_background": "light"
     },
     "output_type": "display_data"
    },
    {
     "data": {
      "image/png": "[encoded data removed]",
      "text/plain": [
       "<Figure size 432x288 with 1 Axes>"
      ]
     },
     "metadata": {
      "needs_background": "light"
     },
     "output_type": "display_data"
    },
    {
     "data": {
      "image/png": "[encoded data removed]",
      "text/plain": [
       "<Figure size 432x288 with 1 Axes>"
      ]
     },
     "metadata": {
      "needs_background": "light"
     },
     "output_type": "display_data"
    }
   ],
   "source": [
    "import matplotlib.pyplot as plt\n",
    "%matplotlib inline\n",
    "\n",
    "plt.plot(range(len(train_loss)), train_loss, label=\"train loss\")\n",
    "plt.plot(range(len(valid_loss)), valid_loss, label=\"valid loss\")\n",
    "plt.legend()\n",
    "plt.title(\"Loss\")\n",
    "plt.show()\n",
    "\n",
    "plt.plot(range(len(train_acc)), train_acc, label=\"train accuracy\")\n",
    "plt.plot(range(len(valid_acc)), valid_acc, label=\"valid accuracy\")\n",
    "plt.legend()\n",
    "plt.title(\"Accuracy\")\n",
    "plt.show()\n",
    "\n",
    "plt.plot(range(len(valid_tp)), valid_tp, label=\"valid tp\", color=\"navy\")\n",
    "plt.plot(range(len(valid_tn)), valid_tn, label=\"valid tn\", color=\"red\")\n",
    "plt.legend()\n",
    "plt.title(\"True positives and True Negatives\")\n",
    "plt.show()\n"
   ]
  },
  {
   "cell_type": "code",
   "execution_count": null,
   "metadata": {},
   "outputs": [],
   "source": []
  }
 ],
 "metadata": {
  "kernelspec": {
   "display_name": "Python 3",
   "language": "python",
   "name": "python3"
  },
  "language_info": {
   "codemirror_mode": {
    "name": "ipython",
    "version": 3
   },
   "file_extension": ".py",
   "mimetype": "text/x-python",
   "name": "python",
   "nbconvert_exporter": "python",
   "pygments_lexer": "ipython3",
   "version": "3.6.9"
  },
  "toc": {
   "base_numbering": 1,
   "nav_menu": {},
   "number_sections": true,
   "sideBar": true,
   "skip_h1_title": false,
   "title_cell": "Table of Contents",
   "title_sidebar": "Contents",
   "toc_cell": false,
   "toc_position": {},
   "toc_section_display": true,
   "toc_window_display": false
  }
 },
 "nbformat": 4,
 "nbformat_minor": 2
}
